{
 "cells": [
  {
   "cell_type": "code",
   "execution_count": 1,
   "metadata": {},
   "outputs": [
    {
     "name": "stderr",
     "output_type": "stream",
     "text": [
      "Using TensorFlow backend.\n"
     ]
    }
   ],
   "source": [
    "import numpy as np\n",
    "import matplotlib.pyplot as plt\n",
    "%matplotlib inline\n",
    "\n",
    "from keras.datasets import mnist\n",
    "(X_train, y_train), (X_test, y_test) = mnist.load_data()\n",
    "\n",
    "from keras.layers import Conv2D, MaxPooling2D, UpSampling2D\n",
    "from keras.models import Model, Sequential\n",
    "from keras.optimizers import Adam\n",
    "from keras import backend as k\n",
    "\n",
    "# for resizing images\n",
    "from scipy.misc import imresize"
   ]
  },
  {
   "cell_type": "code",
   "execution_count": 2,
   "metadata": {},
   "outputs": [
    {
     "name": "stderr",
     "output_type": "stream",
     "text": [
      "/home/varunkn/anaconda3/lib/python3.7/site-packages/ipykernel_launcher.py:3: DeprecationWarning: `imresize` is deprecated!\n",
      "`imresize` is deprecated in SciPy 1.0.0, and will be removed in 1.3.0.\n",
      "Use Pillow instead: ``numpy.array(Image.fromarray(arr).resize())``.\n",
      "  This is separate from the ipykernel package so we can avoid doing imports until\n"
     ]
    }
   ],
   "source": [
    "def reshape(x):\n",
    "    \"\"\"Reshape images to 14*14\"\"\"\n",
    "    img = imresize(x.reshape(28,28), (14, 14))\n",
    "    return img\n",
    "\n",
    "# create 14*14 low resolution train and test images\n",
    "XX_train = np.array([*map(reshape, X_train.astype(float))])\n",
    "XX_test = np.array([*map(reshape, X_test.astype(float))])"
   ]
  },
  {
   "cell_type": "code",
   "execution_count": 3,
   "metadata": {},
   "outputs": [],
   "source": [
    "# scale images to range between 0 and 1\n",
    "#14*14 train images\n",
    "XX_train = XX_train/255\n",
    "#28*28 train label images\n",
    "X_train = X_train/255\n",
    "\n",
    "#14*14 test images\n",
    "XX_test = XX_test/255\n",
    "#28*28 test label images\n",
    "X_test = X_test/255"
   ]
  },
  {
   "cell_type": "code",
   "execution_count": null,
   "metadata": {},
   "outputs": [],
   "source": [
    "batch_size = 128\n",
    "epochs = 40\n",
    "input_shape = (14,14,1)"
   ]
  },
  {
   "cell_type": "code",
   "execution_count": 4,
   "metadata": {},
   "outputs": [
    {
     "name": "stdout",
     "output_type": "stream",
     "text": [
      "WARNING:tensorflow:From /home/varunkn/anaconda3/lib/python3.7/site-packages/tensorflow/python/framework/op_def_library.py:263: colocate_with (from tensorflow.python.framework.ops) is deprecated and will be removed in a future version.\n",
      "Instructions for updating:\n",
      "Colocations handled automatically by placer.\n",
      "_________________________________________________________________\n",
      "Layer (type)                 Output Shape              Param #   \n",
      "=================================================================\n",
      "conv2d_1 (Conv2D)            (None, 14, 14, 64)        640       \n",
      "_________________________________________________________________\n",
      "max_pooling2d_1 (MaxPooling2 (None, 7, 7, 64)          0         \n",
      "_________________________________________________________________\n",
      "conv2d_2 (Conv2D)            (None, 7, 7, 128)         73856     \n",
      "_________________________________________________________________\n",
      "conv2d_3 (Conv2D)            (None, 7, 7, 128)         147584    \n",
      "_________________________________________________________________\n",
      "up_sampling2d_1 (UpSampling2 (None, 14, 14, 128)       0         \n",
      "_________________________________________________________________\n",
      "conv2d_4 (Conv2D)            (None, 14, 14, 64)        73792     \n",
      "_________________________________________________________________\n",
      "up_sampling2d_2 (UpSampling2 (None, 28, 28, 64)        0         \n",
      "_________________________________________________________________\n",
      "conv2d_5 (Conv2D)            (None, 28, 28, 1)         577       \n",
      "=================================================================\n",
      "Total params: 296,449\n",
      "Trainable params: 296,449\n",
      "Non-trainable params: 0\n",
      "_________________________________________________________________\n"
     ]
    }
   ],
   "source": [
    "def make_autoencoder(input_shape):\n",
    "    \n",
    "    generator = Sequential()\n",
    "    generator.add(Conv2D(64, (3, 3), activation='relu', padding='same', input_shape=input_shape))\n",
    "    generator.add(MaxPooling2D(pool_size=(2, 2)))\n",
    "    \n",
    "    generator.add(Conv2D(128, (3, 3), activation='relu', padding='same'))\n",
    "    \n",
    "    generator.add(Conv2D(128, (3, 3), activation='relu', padding='same'))\n",
    "    generator.add(UpSampling2D((2, 2)))\n",
    "    \n",
    "    generator.add(Conv2D(64, (3, 3), activation='relu', padding='same'))\n",
    "    generator.add(UpSampling2D((2, 2)))\n",
    "    \n",
    "    generator.add(Conv2D(1, (3, 3), activation='sigmoid', padding='same'))\n",
    "\n",
    "    return generator\n",
    "\n",
    "\n",
    "autoencoder = make_autoencoder(input_shape)\n",
    "autoencoder.compile(loss='mean_squared_error', optimizer = Adam(lr=0.0002, beta_1=0.5))\n",
    "\n",
    "autoencoder.summary()"
   ]
  },
  {
   "cell_type": "code",
   "execution_count": 5,
   "metadata": {},
   "outputs": [
    {
     "name": "stdout",
     "output_type": "stream",
     "text": [
      "WARNING:tensorflow:From /home/varunkn/anaconda3/lib/python3.7/site-packages/tensorflow/python/ops/math_ops.py:3066: to_int32 (from tensorflow.python.ops.math_ops) is deprecated and will be removed in a future version.\n",
      "Instructions for updating:\n",
      "Use tf.cast instead.\n",
      "Train on 48000 samples, validate on 12000 samples\n",
      "Epoch 1/40\n",
      "48000/48000 [==============================] - 801s 17ms/step - loss: 0.0333 - val_loss: 0.0345\n",
      "Epoch 2/40\n",
      "48000/48000 [==============================] - 767s 16ms/step - loss: 0.0327 - val_loss: 0.0233\n",
      "Epoch 3/40\n",
      "48000/48000 [==============================] - 763s 16ms/step - loss: 0.0333 - val_loss: 0.0289\n",
      "Epoch 4/40\n",
      "48000/48000 [==============================] - 779s 16ms/step - loss: 0.0326 - val_loss: 0.0438\n",
      "Epoch 5/40\n",
      "48000/48000 [==============================] - 787s 16ms/step - loss: 0.0318 - val_loss: 0.0250\n",
      "Epoch 6/40\n",
      "48000/48000 [==============================] - 786s 16ms/step - loss: 0.0313 - val_loss: 0.0263\n",
      "Epoch 7/40\n",
      "48000/48000 [==============================] - 785s 16ms/step - loss: 0.0312 - val_loss: 0.0368\n",
      "Epoch 8/40\n",
      "48000/48000 [==============================] - 792s 16ms/step - loss: 0.0301 - val_loss: 0.0268\n",
      "Epoch 9/40\n",
      "48000/48000 [==============================] - 778s 16ms/step - loss: 0.0296 - val_loss: 0.0240\n",
      "Epoch 10/40\n",
      "48000/48000 [==============================] - 801s 17ms/step - loss: 0.0290 - val_loss: 0.0269\n",
      "Epoch 11/40\n",
      "48000/48000 [==============================] - 804s 17ms/step - loss: 0.0290 - val_loss: 0.0296\n",
      "Epoch 12/40\n",
      "48000/48000 [==============================] - 807s 17ms/step - loss: 0.0286 - val_loss: 0.0242\n",
      "Epoch 13/40\n",
      "48000/48000 [==============================] - 810s 17ms/step - loss: 0.0283 - val_loss: 0.0248\n",
      "Epoch 14/40\n",
      "48000/48000 [==============================] - 810s 17ms/step - loss: 0.0281 - val_loss: 0.0395\n",
      "Epoch 15/40\n",
      "48000/48000 [==============================] - 816s 17ms/step - loss: 0.0278 - val_loss: 0.0258\n",
      "Epoch 16/40\n",
      "48000/48000 [==============================] - 809s 17ms/step - loss: 0.0276 - val_loss: 0.0237\n",
      "Epoch 17/40\n",
      "48000/48000 [==============================] - 812s 17ms/step - loss: 0.0279 - val_loss: 0.0261\n",
      "Epoch 18/40\n",
      "48000/48000 [==============================] - 599s 12ms/step - loss: 0.0277 - val_loss: 0.0278\n",
      "Epoch 19/40\n",
      "48000/48000 [==============================] - 401s 8ms/step - loss: 0.0276 - val_loss: 0.0290\n",
      "Epoch 20/40\n",
      "48000/48000 [==============================] - 398s 8ms/step - loss: 0.0277 - val_loss: 0.0277\n",
      "Epoch 21/40\n",
      "48000/48000 [==============================] - 397s 8ms/step - loss: 0.0275 - val_loss: 0.0234\n",
      "Epoch 22/40\n",
      "48000/48000 [==============================] - 398s 8ms/step - loss: 0.0270 - val_loss: 0.0245\n",
      "Epoch 23/40\n",
      "48000/48000 [==============================] - 406s 8ms/step - loss: 0.0272 - val_loss: 0.0240\n",
      "Epoch 24/40\n",
      "48000/48000 [==============================] - 404s 8ms/step - loss: 0.0273 - val_loss: 0.0243\n",
      "Epoch 25/40\n",
      "48000/48000 [==============================] - 402s 8ms/step - loss: 0.0270 - val_loss: 0.0281\n",
      "Epoch 26/40\n",
      "48000/48000 [==============================] - 401s 8ms/step - loss: 0.0279 - val_loss: 0.0274\n",
      "Epoch 27/40\n",
      "48000/48000 [==============================] - 438s 9ms/step - loss: 0.0275 - val_loss: 0.0238\n",
      "Epoch 28/40\n",
      "48000/48000 [==============================] - 404s 8ms/step - loss: 0.0277 - val_loss: 0.0269\n",
      "Epoch 29/40\n",
      "48000/48000 [==============================] - 404s 8ms/step - loss: 0.0272 - val_loss: 0.0260\n",
      "Epoch 30/40\n",
      "48000/48000 [==============================] - 402s 8ms/step - loss: 0.0272 - val_loss: 0.0251\n",
      "Epoch 31/40\n",
      "48000/48000 [==============================] - 404s 8ms/step - loss: 0.0275 - val_loss: 0.0273\n",
      "Epoch 32/40\n",
      "48000/48000 [==============================] - 426s 9ms/step - loss: 0.0285 - val_loss: 0.0233\n",
      "Epoch 33/40\n",
      "48000/48000 [==============================] - 400s 8ms/step - loss: 0.0271 - val_loss: 0.0244\n",
      "Epoch 34/40\n",
      "48000/48000 [==============================] - 400s 8ms/step - loss: 0.0268 - val_loss: 0.0249\n",
      "Epoch 35/40\n",
      "48000/48000 [==============================] - 401s 8ms/step - loss: 0.0276 - val_loss: 0.0288\n",
      "Epoch 36/40\n",
      "48000/48000 [==============================] - 396s 8ms/step - loss: 0.0272 - val_loss: 0.0268\n",
      "Epoch 37/40\n",
      "48000/48000 [==============================] - 395s 8ms/step - loss: 0.0275 - val_loss: 0.0251\n",
      "Epoch 38/40\n",
      "48000/48000 [==============================] - 399s 8ms/step - loss: 0.0274 - val_loss: 0.0240\n",
      "Epoch 39/40\n",
      "48000/48000 [==============================] - 399s 8ms/step - loss: 0.0272 - val_loss: 0.0281\n",
      "Epoch 40/40\n",
      "48000/48000 [==============================] - 398s 8ms/step - loss: 0.0284 - val_loss: 0.0252\n"
     ]
    }
   ],
   "source": [
    "autoencoder_train = autoencoder.fit(XX_train.reshape(-1,14,14,1), X_train.reshape(-1,28,28,1), batch_size=batch_size,\n",
    "                                    epochs=epochs,verbose=1,\n",
    "                                    validation_split = 0.2)\n"
   ]
  },
  {
   "cell_type": "code",
   "execution_count": 7,
   "metadata": {},
   "outputs": [
    {
     "data": {
      "image/png": "[encoded data removed]",
      "text/plain": [
       "<Figure size 432x288 with 1 Axes>"
      ]
     },
     "metadata": {
      "needs_background": "light"
     },
     "output_type": "display_data"
    },
    {
     "name": "stdout",
     "output_type": "stream",
     "text": [
      "Input\n"
     ]
    },
    {
     "data": {
      "image/png": "[encoded data removed]",
      "text/plain": [
       "<Figure size 360x360 with 9 Axes>"
      ]
     },
     "metadata": {
      "needs_background": "light"
     },
     "output_type": "display_data"
    },
    {
     "name": "stdout",
     "output_type": "stream",
     "text": [
      "GENERATED\n"
     ]
    },
    {
     "data": {
      "image/png": "[encoded data removed]",
      "text/plain": [
       "<Figure size 360x360 with 9 Axes>"
      ]
     },
     "metadata": {
      "needs_background": "light"
     },
     "output_type": "display_data"
    }
   ],
   "source": [
    "loss = autoencoder_train.history['loss']\n",
    "val_loss = autoencoder_train.history['val_loss']\n",
    "epochs_ = [x for x in range(epochs)]\n",
    "plt.figure()\n",
    "plt.plot(epochs_, loss, label='Training loss', marker = 'D')\n",
    "plt.plot(epochs_, val_loss, label='Validation loss', marker = 'o')\n",
    "plt.title('Training and validation loss')\n",
    "plt.legend()\n",
    "plt.show()\n",
    "\n",
    "print('Input')\n",
    "plt.figure(figsize=(5,5))\n",
    "for i in range(9):\n",
    "    plt.subplot(331 + i)\n",
    "    plt.imshow(np.squeeze(XX_test.reshape(-1,14,14)[i]), cmap='gray')\n",
    "plt.show()\n",
    "\n",
    "# Test set results\n",
    "print('GENERATED')\n",
    "plt.figure(figsize=(5,5))\n",
    "for i in range(9):\n",
    "    pred = autoencoder.predict(XX_test.reshape(-1,14,14,1)[i:i+1], verbose=0)\n",
    "    plt.subplot(331 + i)\n",
    "    plt.imshow(pred[0].reshape(28,28), cmap='GnBu')\n",
    "plt.show()"
   ]
  }
 ],
 "metadata": {
  "kernelspec": {
   "display_name": "Python 3",
   "language": "python",
   "name": "python3"
  },
  "language_info": {
   "codemirror_mode": {
    "name": "ipython",
    "version": 3
   },
   "file_extension": ".py",
   "mimetype": "text/x-python",
   "name": "python",
   "nbconvert_exporter": "python",
   "pygments_lexer": "ipython3",
   "version": "3.7.3"
  }
 },
 "nbformat": 4,
 "nbformat_minor": 2
}
